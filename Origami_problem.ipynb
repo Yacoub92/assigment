{
  "cells": [
    {
      "cell_type": "code",
      "execution_count": 19,
      "metadata": {},
      "outputs": [
        {
          "name": "stdout",
          "output_type": "stream",
          "text": [
            "The thickness of the paper when folded 43 times is: 703687441.78 meters\n"
          ]
        }
      ],
      "source": [
        "thickness = 0.00008  # thickness of paper in meters\n",
        "num_folds = 43  # number of times to fold the paper\n",
        "\n",
        "folded_thickness = thickness * 2 ** num_folds\n",
        "\n",
        "print(f\"The thickness of the paper when folded {num_folds} times is: {folded_thickness:.2f} meters\")\n"
      ]
    },
    {
      "cell_type": "code",
      "execution_count": 18,
      "metadata": {},
      "outputs": [
        {
          "name": "stdout",
          "output_type": "stream",
          "text": [
            "Thickness: 703.69 million kilometers\n"
          ]
        }
      ],
      "source": [
        "THICKNESS = 0.00008\n",
        "folded_thickness = THICKNESS * 2 ** 43\n",
        "thickness_in_million_km = folded_thickness / (1000 * 1000)\n",
        "print(\"Thickness: {:.2f} million kilometers\".format(thickness_in_million_km))\n"
      ]
    }
  ],
  "metadata": {
    "colab": {
      "provenance": []
    },
    "kernelspec": {
      "display_name": "Python 3",
      "name": "python3"
    },
    "language_info": {
      "codemirror_mode": {
        "name": "ipython",
        "version": 3
      },
      "file_extension": ".py",
      "mimetype": "text/x-python",
      "name": "python",
      "nbconvert_exporter": "python",
      "pygments_lexer": "ipython3",
      "version": "3.10.0"
    }
  },
  "nbformat": 4,
  "nbformat_minor": 0
}
